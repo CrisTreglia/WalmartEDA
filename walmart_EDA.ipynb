{
 "cells": [
  {
   "cell_type": "code",
   "execution_count": null,
   "metadata": {},
   "outputs": [],
   "source": [
    "import pandas as pd\n",
    "import matplotlib.pyplot as plt\n",
    "\n",
    "# Read csv file and delimite & enclose the fields\n",
    "df = pd.read_csv('walmart.csv', delimiter=';', quotechar='\"')\n",
    "\n",
    "#Inspect the head (first 5 records of the DataFrame)\n",
    "print(df.head())\n",
    "\n",
    "# Plot total sales by customer_type if the 'customer_type' column exists\n",
    "if 'customer_type' in df.columns:\n",
    "    # The figure specifies the width and heigth of the visual\n",
    "    plt.figure(figsize=(14,6))\n",
    "    # Grouping by customer type and summing the total column for each group\n",
    "    df.groupby('customer_type')['total'].sum().plot(kind='bar', color='skyblue')\n",
    "\n",
    "    # Adding title and labels to the plot\n",
    "    plt.title('Total Sales by Customer Type')\n",
    "    plt.xlabel('Customer Type')\n",
    "    plt.ylabel('Total Sales')\n",
    "\n",
    "    # Call the show method\n",
    "    plt.show()\n",
    "else:\n",
    "    print(\"Customer type column not found in the dataset.\")"
   ]
  }
 ],
 "metadata": {
  "language_info": {
   "name": "python"
  }
 },
 "nbformat": 4,
 "nbformat_minor": 2
}
